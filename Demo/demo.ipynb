{
 "cells": [
  {
   "cell_type": "code",
   "execution_count": null,
   "metadata": {},
   "outputs": [],
   "source": [
    "import os\n",
    "import sys\n",
    "parentdir = os.path.dirname(os.getcwd())\n",
    "sys.path.insert(0, os.path.join(parentdir, \"Scrapers\"))\n",
    "sys.path.insert(0, os.path.join(parentdir, \"Analysis\")) \n",
    "import numpy as np\n",
    "import pandas as pd\n",
    "from sklearn.svm import SVC\n",
    "import scrape_game_stats as game_scrape\n",
    "import analysis"
   ]
  },
  {
   "cell_type": "markdown",
   "metadata": {},
   "source": [
    "=============== Scraping NBA.com for game statistics =============================="
   ]
  },
  {
   "cell_type": "code",
   "execution_count": null,
   "metadata": {},
   "outputs": [],
   "source": [
    "day_url = game_scrape.get_scores_url(10, 1, 2018)"
   ]
  },
  {
   "cell_type": "markdown",
   "metadata": {},
   "source": [
    "https://www.nba.com/games?date=2018-01-10"
   ]
  },
  {
   "cell_type": "code",
   "execution_count": null,
   "metadata": {},
   "outputs": [],
   "source": [
    "print(day_url)"
   ]
  },
  {
   "cell_type": "code",
   "execution_count": null,
   "metadata": {},
   "outputs": [],
   "source": [
    "response = game_scrape.get_response(\"scores\", 10, 1, 2018)"
   ]
  },
  {
   "cell_type": "code",
   "execution_count": null,
   "metadata": {},
   "outputs": [],
   "source": [
    "response_data = response.json()"
   ]
  },
  {
   "cell_type": "code",
   "execution_count": null,
   "metadata": {},
   "outputs": [],
   "source": [
    "game_ids = game_scrape.data_to_game_ids(response_data)"
   ]
  },
  {
   "cell_type": "code",
   "execution_count": null,
   "metadata": {},
   "outputs": [],
   "source": [
    "print(game_ids)"
   ]
  },
  {
   "cell_type": "code",
   "execution_count": null,
   "metadata": {},
   "outputs": [],
   "source": [
    "observation = game_scrape.get_observation(game_ids[0])"
   ]
  },
  {
   "cell_type": "code",
   "execution_count": null,
   "metadata": {},
   "outputs": [],
   "source": [
    "columns = [\"game_id\", \"home_flag\", \"team_id\", \"abb\", \"wins\", \"loss\",\n",
    "           \"wl%\", \"asts\", \"rebs\", \"orebs\", \"tovs\", \"fga\", \"fg%\", \"2pa\",\n",
    "           \"2p%\", \"3pa\",\"3p%\",\"fta\", \"ft%\", \"pfs\", \"pts\", \"ref1\",\n",
    "           \"ref2\", \"ref3\", \"net_score\", \"won\",\n",
    "          ]"
   ]
  },
  {
   "cell_type": "code",
   "execution_count": null,
   "metadata": {},
   "outputs": [],
   "source": [
    "df = pd.DataFrame(data=observation, columns=columns)\n",
    "df.set_index([\"game_id\", \"home_flag\"], inplace=True)\n",
    "df.sort_index(inplace=True)"
   ]
  },
  {
   "cell_type": "code",
   "execution_count": null,
   "metadata": {},
   "outputs": [],
   "source": [
    "df"
   ]
  },
  {
   "cell_type": "markdown",
   "metadata": {},
   "source": [
    "=============== Running Classification =============================="
   ]
  },
  {
   "cell_type": "code",
   "execution_count": null,
   "metadata": {},
   "outputs": [],
   "source": [
    "data_path = os.path.join(os.path.dirname(os.getcwd()), \"Data/SuccessfulScrape\")"
   ]
  },
  {
   "cell_type": "code",
   "execution_count": null,
   "metadata": {},
   "outputs": [],
   "source": [
    "train, test, predict, control, finish = analysis.main(2018, data_path, True, \"SVM\")"
   ]
  },
  {
   "cell_type": "code",
   "execution_count": null,
   "metadata": {},
   "outputs": [],
   "source": [
    "print(f\"  Train Score: {train*100:3.2f}\")\n",
    "print(f\"   Test Score: {test*100:3.2f}\")\n",
    "print(f\"Predict Score: {predict*100:3.2f}\")\n",
    "print(f\"Control Score: {control*100:3.2f}\")"
   ]
  },
  {
   "cell_type": "code",
   "execution_count": null,
   "metadata": {},
   "outputs": [],
   "source": [
    "game_df = analysis.get_single_season_df(2018, data_path)"
   ]
  },
  {
   "cell_type": "code",
   "execution_count": null,
   "metadata": {},
   "outputs": [],
   "source": [
    "game_df.head()"
   ]
  },
  {
   "cell_type": "code",
   "execution_count": null,
   "metadata": {},
   "outputs": [],
   "source": [
    "features = list(game_df.columns[6:-6])\n",
    "regression = game_df.columns[-2]\n",
    "label = game_df.columns[-1]\n",
    "cols = features + [regression] + [label]\n",
    "\n",
    "game_df = game_df.set_index([\"game_id\", \"home_flag\"])\n",
    "game_df.head()"
   ]
  },
  {
   "cell_type": "code",
   "execution_count": null,
   "metadata": {},
   "outputs": [],
   "source": [
    "game_ids = np.array(game_df.index.levels[0])\n",
    "train_df, val_df, test_df = analysis.split_dfs(game_df, game_ids, 0.75, 0, 0.25)\n",
    "X_train, y_train = analysis.get_x_y(train_df, cols)\n",
    "X_test, y_test = analysis.get_x_y(test_df, cols)"
   ]
  },
  {
   "cell_type": "code",
   "execution_count": null,
   "metadata": {},
   "outputs": [],
   "source": [
    "train_df.loc[:, cols].head()"
   ]
  },
  {
   "cell_type": "code",
   "execution_count": null,
   "metadata": {},
   "outputs": [],
   "source": [
    "test_df.loc[:, cols].head()"
   ]
  },
  {
   "cell_type": "code",
   "execution_count": null,
   "metadata": {},
   "outputs": [],
   "source": [
    "team_df = analysis.get_team_df(data_path)\n",
    "team_df_year = team_df.loc[team_df[\"season\"] == \"2017-18\"]\n",
    "team_df_year.set_index(\"team_id\", inplace=True)\n",
    "team_df_year = team_df_year.loc[:, features]"
   ]
  },
  {
   "cell_type": "code",
   "execution_count": null,
   "metadata": {},
   "outputs": [],
   "source": [
    "team_df_year.head()"
   ]
  },
  {
   "cell_type": "code",
   "execution_count": null,
   "metadata": {},
   "outputs": [],
   "source": [
    "X_predict, y_predict = analysis.get_predict_x_y(test_df, team_df_year, features)"
   ]
  },
  {
   "cell_type": "code",
   "execution_count": null,
   "metadata": {},
   "outputs": [],
   "source": [
    "print(np.shape(X_train))\n",
    "print(np.shape(X_test))\n",
    "print(np.shape(X_predict))"
   ]
  },
  {
   "cell_type": "code",
   "execution_count": null,
   "metadata": {},
   "outputs": [],
   "source": [
    "clf =  SVC(kernel=\"rbf\", gamma=\"scale\")\n",
    "clf.fit(X_train, y_train)\n",
    "train_score = clf.score(X_train, y_train)\n",
    "test_score = clf.score(X_test, y_test)\n",
    "predict_score = clf.score(X_predict, y_predict)\n",
    "control_score = analysis.test_control_score(test_df, team_df_year)"
   ]
  },
  {
   "cell_type": "code",
   "execution_count": null,
   "metadata": {},
   "outputs": [],
   "source": [
    "print(f\"  Train Score: {train_score*100:3.2f}\")\n",
    "print(f\"   Test Score: {test_score*100:3.2f}\")\n",
    "print(f\"Predict Score: {predict_score*100:3.2f}\")\n",
    "print(f\"Control Score: {control_score*100:3.2f}\")"
   ]
  }
 ],
 "metadata": {
  "kernelspec": {
   "display_name": "Python 3",
   "language": "python",
   "name": "python3"
  },
  "language_info": {
   "codemirror_mode": {
    "name": "ipython",
    "version": 3
   },
   "file_extension": ".py",
   "mimetype": "text/x-python",
   "name": "python",
   "nbconvert_exporter": "python",
   "pygments_lexer": "ipython3",
   "version": "3.7.3"
  }
 },
 "nbformat": 4,
 "nbformat_minor": 2
}
